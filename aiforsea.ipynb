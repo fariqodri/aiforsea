{
 "cells": [
  {
   "cell_type": "code",
   "execution_count": 3,
   "metadata": {},
   "outputs": [],
   "source": [
    "import pandas as pd\n",
    "from joblib import dump, load\n",
    "import matplotlib.pyplot as plt"
   ]
  },
  {
   "cell_type": "code",
   "execution_count": 4,
   "metadata": {},
   "outputs": [],
   "source": [
    "from utils.dangerous_driving import DangerousDrivingDetection\n",
    "from utils.driving_event import DrivingEventDetection\n",
    "from utils.preprocessing import kalman_filter\n",
    "from utils.plotting import plot_difference_line, plot_silhouette_scores_of_clusters, print_confusion_matrix\n",
    "from utils.load import load_features_group, load_label_df, load_model"
   ]
  },
  {
   "cell_type": "markdown",
   "metadata": {},
   "source": [
    "###### Constants"
   ]
  },
  {
   "cell_type": "code",
   "execution_count": 5,
   "metadata": {},
   "outputs": [],
   "source": [
    "N_CLUSTERS = 3\n",
    "LABEL_PATH = \"./safety/labels/part-00000-e9445087-aa0a-433b-a7f6-7f4c19d78ad6-c000.csv\"\n",
    "FEATURES_PATHS = [\"./safety/features/part-0000{}-e6120af0-10c2-4248-97c4-81baf4304e5c-c000.csv\".format(i) for i in range(10)]\n",
    "WINDOW_SIZE = 3\n",
    "URBAN_SPEED_LIMIT_IN_MS = 13.8889"
   ]
  },
  {
   "cell_type": "markdown",
   "metadata": {},
   "source": [
    "###### Datas"
   ]
  },
  {
   "cell_type": "code",
   "execution_count": 6,
   "metadata": {},
   "outputs": [],
   "source": [
    "dtypes_dict = {'bookingID': str}\n",
    "label = load_label_df(LABEL_PATH)\n",
    "features = load_features_group(FEATURES_PATHS)"
   ]
  },
  {
   "cell_type": "markdown",
   "metadata": {},
   "source": [
    "# Driving Event Detection"
   ]
  },
  {
   "cell_type": "markdown",
   "metadata": {},
   "source": [
    "###### Data"
   ]
  },
  {
   "cell_type": "code",
   "execution_count": 7,
   "metadata": {},
   "outputs": [],
   "source": [
    "longest_trip_id = features.size().sort_values(ascending=False).head(1).index.values[0]\n",
    "driving_event_features = features.get_group(longest_trip_id)"
   ]
  },
  {
   "cell_type": "code",
   "execution_count": 8,
   "metadata": {},
   "outputs": [],
   "source": [
    "driving_event = DrivingEventDetection(driving_event_features)"
   ]
  },
  {
   "cell_type": "code",
   "execution_count": 9,
   "metadata": {},
   "outputs": [
    {
     "data": {
      "text/html": [
       "<div>\n",
       "<style scoped>\n",
       "    .dataframe tbody tr th:only-of-type {\n",
       "        vertical-align: middle;\n",
       "    }\n",
       "\n",
       "    .dataframe tbody tr th {\n",
       "        vertical-align: top;\n",
       "    }\n",
       "\n",
       "    .dataframe thead th {\n",
       "        text-align: right;\n",
       "    }\n",
       "</style>\n",
       "<table border=\"1\" class=\"dataframe\">\n",
       "  <thead>\n",
       "    <tr style=\"text-align: right;\">\n",
       "      <th></th>\n",
       "      <th>bookingID</th>\n",
       "      <th>Accuracy</th>\n",
       "      <th>Bearing</th>\n",
       "      <th>acceleration_x</th>\n",
       "      <th>acceleration_y</th>\n",
       "      <th>acceleration_z</th>\n",
       "      <th>gyro_x</th>\n",
       "      <th>gyro_y</th>\n",
       "      <th>gyro_z</th>\n",
       "      <th>second</th>\n",
       "      <th>Speed</th>\n",
       "    </tr>\n",
       "  </thead>\n",
       "  <tbody>\n",
       "    <tr>\n",
       "      <th>688080</th>\n",
       "      <td>438086664371</td>\n",
       "      <td>4.0</td>\n",
       "      <td>351.0</td>\n",
       "      <td>0.339977</td>\n",
       "      <td>10.928333</td>\n",
       "      <td>1.784877</td>\n",
       "      <td>0.011484</td>\n",
       "      <td>0.070017</td>\n",
       "      <td>-0.096468</td>\n",
       "      <td>0.0</td>\n",
       "      <td>7.340000</td>\n",
       "    </tr>\n",
       "    <tr>\n",
       "      <th>1554664</th>\n",
       "      <td>438086664371</td>\n",
       "      <td>4.0</td>\n",
       "      <td>351.0</td>\n",
       "      <td>-0.873884</td>\n",
       "      <td>9.346964</td>\n",
       "      <td>2.134431</td>\n",
       "      <td>0.329745</td>\n",
       "      <td>0.332689</td>\n",
       "      <td>-0.191152</td>\n",
       "      <td>1.0</td>\n",
       "      <td>9.540000</td>\n",
       "    </tr>\n",
       "    <tr>\n",
       "      <th>1038426</th>\n",
       "      <td>438086664371</td>\n",
       "      <td>4.0</td>\n",
       "      <td>352.0</td>\n",
       "      <td>0.902614</td>\n",
       "      <td>9.793482</td>\n",
       "      <td>2.266112</td>\n",
       "      <td>-0.014172</td>\n",
       "      <td>0.005877</td>\n",
       "      <td>0.015321</td>\n",
       "      <td>2.0</td>\n",
       "      <td>9.700000</td>\n",
       "    </tr>\n",
       "    <tr>\n",
       "      <th>746317</th>\n",
       "      <td>438086664371</td>\n",
       "      <td>4.0</td>\n",
       "      <td>352.0</td>\n",
       "      <td>-0.244209</td>\n",
       "      <td>9.490616</td>\n",
       "      <td>0.541090</td>\n",
       "      <td>-0.038607</td>\n",
       "      <td>0.007098</td>\n",
       "      <td>0.002492</td>\n",
       "      <td>3.0</td>\n",
       "      <td>9.440000</td>\n",
       "    </tr>\n",
       "    <tr>\n",
       "      <th>77421</th>\n",
       "      <td>438086664371</td>\n",
       "      <td>4.0</td>\n",
       "      <td>350.0</td>\n",
       "      <td>-0.547075</td>\n",
       "      <td>9.014170</td>\n",
       "      <td>-3.253720</td>\n",
       "      <td>0.074403</td>\n",
       "      <td>-0.085753</td>\n",
       "      <td>0.128331</td>\n",
       "      <td>4.0</td>\n",
       "      <td>9.420000</td>\n",
       "    </tr>\n",
       "    <tr>\n",
       "      <th>992307</th>\n",
       "      <td>438086664371</td>\n",
       "      <td>5.0</td>\n",
       "      <td>350.0</td>\n",
       "      <td>-0.480037</td>\n",
       "      <td>8.300697</td>\n",
       "      <td>-1.753753</td>\n",
       "      <td>-0.012339</td>\n",
       "      <td>-0.033219</td>\n",
       "      <td>0.021429</td>\n",
       "      <td>5.0</td>\n",
       "      <td>8.990000</td>\n",
       "    </tr>\n",
       "    <tr>\n",
       "      <th>400858</th>\n",
       "      <td>438086664371</td>\n",
       "      <td>5.0</td>\n",
       "      <td>350.0</td>\n",
       "      <td>1.100136</td>\n",
       "      <td>9.385271</td>\n",
       "      <td>-0.304064</td>\n",
       "      <td>0.113499</td>\n",
       "      <td>-0.099803</td>\n",
       "      <td>0.129552</td>\n",
       "      <td>6.0</td>\n",
       "      <td>10.490000</td>\n",
       "    </tr>\n",
       "    <tr>\n",
       "      <th>624754</th>\n",
       "      <td>438086664371</td>\n",
       "      <td>5.0</td>\n",
       "      <td>349.0</td>\n",
       "      <td>-0.507571</td>\n",
       "      <td>10.576386</td>\n",
       "      <td>4.575319</td>\n",
       "      <td>-0.126571</td>\n",
       "      <td>0.020537</td>\n",
       "      <td>0.031203</td>\n",
       "      <td>7.0</td>\n",
       "      <td>11.090000</td>\n",
       "    </tr>\n",
       "    <tr>\n",
       "      <th>1336458</th>\n",
       "      <td>438086664371</td>\n",
       "      <td>5.0</td>\n",
       "      <td>347.0</td>\n",
       "      <td>0.772130</td>\n",
       "      <td>10.296265</td>\n",
       "      <td>4.357447</td>\n",
       "      <td>-0.022113</td>\n",
       "      <td>0.040696</td>\n",
       "      <td>-0.054318</td>\n",
       "      <td>8.0</td>\n",
       "      <td>10.290000</td>\n",
       "    </tr>\n",
       "    <tr>\n",
       "      <th>300509</th>\n",
       "      <td>438086664371</td>\n",
       "      <td>5.0</td>\n",
       "      <td>346.0</td>\n",
       "      <td>1.626860</td>\n",
       "      <td>10.843340</td>\n",
       "      <td>6.062118</td>\n",
       "      <td>-0.482095</td>\n",
       "      <td>-0.354534</td>\n",
       "      <td>0.230956</td>\n",
       "      <td>9.0</td>\n",
       "      <td>9.139999</td>\n",
       "    </tr>\n",
       "  </tbody>\n",
       "</table>\n",
       "</div>"
      ],
      "text/plain": [
       "            bookingID  Accuracy  Bearing  acceleration_x  acceleration_y  \\\n",
       "688080   438086664371       4.0    351.0        0.339977       10.928333   \n",
       "1554664  438086664371       4.0    351.0       -0.873884        9.346964   \n",
       "1038426  438086664371       4.0    352.0        0.902614        9.793482   \n",
       "746317   438086664371       4.0    352.0       -0.244209        9.490616   \n",
       "77421    438086664371       4.0    350.0       -0.547075        9.014170   \n",
       "992307   438086664371       5.0    350.0       -0.480037        8.300697   \n",
       "400858   438086664371       5.0    350.0        1.100136        9.385271   \n",
       "624754   438086664371       5.0    349.0       -0.507571       10.576386   \n",
       "1336458  438086664371       5.0    347.0        0.772130       10.296265   \n",
       "300509   438086664371       5.0    346.0        1.626860       10.843340   \n",
       "\n",
       "         acceleration_z    gyro_x    gyro_y    gyro_z  second      Speed  \n",
       "688080         1.784877  0.011484  0.070017 -0.096468     0.0   7.340000  \n",
       "1554664        2.134431  0.329745  0.332689 -0.191152     1.0   9.540000  \n",
       "1038426        2.266112 -0.014172  0.005877  0.015321     2.0   9.700000  \n",
       "746317         0.541090 -0.038607  0.007098  0.002492     3.0   9.440000  \n",
       "77421         -3.253720  0.074403 -0.085753  0.128331     4.0   9.420000  \n",
       "992307        -1.753753 -0.012339 -0.033219  0.021429     5.0   8.990000  \n",
       "400858        -0.304064  0.113499 -0.099803  0.129552     6.0  10.490000  \n",
       "624754         4.575319 -0.126571  0.020537  0.031203     7.0  11.090000  \n",
       "1336458        4.357447 -0.022113  0.040696 -0.054318     8.0  10.290000  \n",
       "300509         6.062118 -0.482095 -0.354534  0.230956     9.0   9.139999  "
      ]
     },
     "execution_count": 9,
     "metadata": {},
     "output_type": "execute_result"
    }
   ],
   "source": [
    "driving_event.data.head(10)"
   ]
  },
  {
   "cell_type": "markdown",
   "metadata": {},
   "source": [
    "### Feature Selection"
   ]
  },
  {
   "cell_type": "markdown",
   "metadata": {},
   "source": [
    "Since longitudinal and lateral motion of the vehicle are determined by Y axis linear acceleration and Z axis angular acceleration, we will use those features"
   ]
  },
  {
   "cell_type": "code",
   "execution_count": 10,
   "metadata": {},
   "outputs": [],
   "source": [
    "driving_event.set_data(driving_event.data.loc[:, [\"acceleration_y\", \"gyro_z\", \"second\"]])"
   ]
  },
  {
   "cell_type": "markdown",
   "metadata": {},
   "source": [
    "### Pre Processing"
   ]
  },
  {
   "cell_type": "markdown",
   "metadata": {},
   "source": [
    "We'll use kalman filter to reduce noise in the data"
   ]
  },
  {
   "cell_type": "code",
   "execution_count": 11,
   "metadata": {},
   "outputs": [],
   "source": [
    "seconds = driving_event.data['second'].copy()\n",
    "acc_y_before_filter = driving_event.data[\"acceleration_y\"].copy()\n",
    "gyro_z_before_filter = driving_event.data[\"gyro_z\"].copy()"
   ]
  },
  {
   "cell_type": "code",
   "execution_count": 12,
   "metadata": {},
   "outputs": [],
   "source": [
    "driving_event.pre_process(\"acceleration_y\", lambda x: kalman_filter(x, \"acceleration_y\"))\n",
    "driving_event.pre_process(\"gyro_z\", lambda x: kalman_filter(x, \"gyro_z\"))"
   ]
  },
  {
   "cell_type": "code",
   "execution_count": 13,
   "metadata": {},
   "outputs": [
    {
     "data": {
      "image/png": "[encoded data removed]",
      "text/plain": [
       "<Figure size 432x288 with 1 Axes>"
      ]
     },
     "metadata": {
      "needs_background": "light"
     },
     "output_type": "display_data"
    }
   ],
   "source": [
    "plot_difference_line(seconds, [acc_y_before_filter, driving_event.data['acceleration_y']], \n",
    "                     [\"Acceleration on Y-Axis\", \"Acceleration on Y-Axis after filter\"])"
   ]
  },
  {
   "cell_type": "code",
   "execution_count": 14,
   "metadata": {},
   "outputs": [
    {
     "data": {
      "image/png": "[encoded data removed]",
      "text/plain": [
       "<Figure size 432x288 with 1 Axes>"
      ]
     },
     "metadata": {
      "needs_background": "light"
     },
     "output_type": "display_data"
    }
   ],
   "source": [
    "plot_difference_line(seconds, [gyro_z_before_filter, driving_event.data['gyro_z']], \n",
    "                     [\"Gyro Z-Axis\", \"Gyro Z-Axis after filter\"])"
   ]
  },
  {
   "cell_type": "markdown",
   "metadata": {},
   "source": [
    "### Feature Extraction"
   ]
  },
  {
   "cell_type": "markdown",
   "metadata": {},
   "source": [
    "##### Sliding Window"
   ]
  },
  {
   "cell_type": "markdown",
   "metadata": {},
   "source": [
    "Most events that happen during driving (speed control, steady driving, hard turn, etc) take time more than 1 second. However, the dataset only give us the acceleration per 1 second. That's why we need to fetch data every N seconds and summarize it. The N here is 3 seconds"
   ]
  },
  {
   "cell_type": "markdown",
   "metadata": {},
   "source": [
    "The statistical feature that will be used per window is variance. Mean, variance, and IQR have been tested and combined with each other and variance has the best silhouette score during clustering."
   ]
  },
  {
   "cell_type": "code",
   "execution_count": 15,
   "metadata": {},
   "outputs": [],
   "source": [
    "cluster_data = driving_event.load_clustering_features([\"acceleration_y\", \"gyro_z\"]).dropna()"
   ]
  },
  {
   "cell_type": "code",
   "execution_count": 16,
   "metadata": {},
   "outputs": [],
   "source": [
    "driving_event.set_data(cluster_data)"
   ]
  },
  {
   "cell_type": "markdown",
   "metadata": {},
   "source": [
    "### Clustering"
   ]
  },
  {
   "cell_type": "markdown",
   "metadata": {},
   "source": [
    "##### Scaling with Standard Scaler"
   ]
  },
  {
   "cell_type": "code",
   "execution_count": 17,
   "metadata": {},
   "outputs": [],
   "source": [
    "from sklearn.preprocessing import StandardScaler"
   ]
  },
  {
   "cell_type": "code",
   "execution_count": 18,
   "metadata": {},
   "outputs": [],
   "source": [
    "driving_event.scale_data(StandardScaler())"
   ]
  },
  {
   "cell_type": "markdown",
   "metadata": {},
   "source": [
    "#### Training"
   ]
  },
  {
   "cell_type": "markdown",
   "metadata": {},
   "source": [
    "I choose 3 clusters since it has the biggest silhouette score than others"
   ]
  },
  {
   "cell_type": "code",
   "execution_count": 19,
   "metadata": {},
   "outputs": [],
   "source": [
    "%matplotlib inline\n",
    "from sklearn.cluster import KMeans\n",
    "import matplotlib.pyplot as plt\n",
    "from sklearn import metrics\n",
    "import numpy as np"
   ]
  },
  {
   "cell_type": "code",
   "execution_count": 20,
   "metadata": {},
   "outputs": [
    {
     "data": {
      "image/png": "[encoded data removed]",
      "text/plain": [
       "<Figure size 576x432 with 1 Axes>"
      ]
     },
     "metadata": {
      "needs_background": "light"
     },
     "output_type": "display_data"
    }
   ],
   "source": [
    "try_range = range(2, 8)\n",
    "plot_silhouette_scores_of_clusters(driving_event.data, cluster_range=try_range, figsize=(8, 6))"
   ]
  },
  {
   "cell_type": "markdown",
   "metadata": {},
   "source": [
    "According to this plot, 3 clusters will give the best clustering result (measured by silhouette score)"
   ]
  },
  {
   "cell_type": "code",
   "execution_count": 21,
   "metadata": {},
   "outputs": [
    {
     "name": "stdout",
     "output_type": "stream",
     "text": [
      "K-Means Model loaded from joblib file\n"
     ]
    }
   ],
   "source": [
    "try:\n",
    "    km = load('models/k_means.joblib')\n",
    "    print(\"K-Means Model loaded from joblib file\")\n",
    "except FileNotFoundError:\n",
    "    km = KMeans(n_clusters=N_CLUSTERS, random_state=1, tol=1e-8)\n",
    "    km = driving_event.train(km)\n",
    "    dump(km, 'models/k_means.joblib')\n",
    "    print(\"K-Means Model instantiated, trained, and saved\")"
   ]
  },
  {
   "cell_type": "code",
   "execution_count": 22,
   "metadata": {},
   "outputs": [
    {
     "data": {
      "image/png": "[encoded data removed]",
      "text/plain": [
       "<Figure size 720x720 with 1 Axes>"
      ]
     },
     "metadata": {
      "needs_background": "light"
     },
     "output_type": "display_data"
    }
   ],
   "source": [
    "colors = ['r', 'g', 'b']\n",
    "plt.figure(figsize=(10,10))\n",
    "k = N_CLUSTERS\n",
    "x_arr = driving_event.data\n",
    "labels = km.labels_\n",
    "centroids = km.cluster_centers_\n",
    "for i in range(k):\n",
    "    points = np.array([x_arr[j] for j in range(len(driving_event.data)) if labels[j] == i])\n",
    "    plt.scatter(points[:, 0], points[:, 1], s=40, c=colors[i])\n",
    "    plt.scatter(centroids[:, 0], centroids[:, 1], marker='*', s=400,\n",
    "                c='#050505')\n",
    "\n",
    "plt.xlabel(\"Variance of Linear Acceleration on Y-Axis Every 3 Seconds\")\n",
    "plt.ylabel(\"Variance of Angular Acceleration on Z-Axis Every 3 Seconds\")\n",
    "plt.show()"
   ]
  },
  {
   "cell_type": "markdown",
   "metadata": {},
   "source": [
    "# Dangerous Driving Detection"
   ]
  },
  {
   "cell_type": "markdown",
   "metadata": {},
   "source": [
    "We'll use the KMeans model to detect events that occured in any trips. These events will be counted and the number of the events will be fed to the classifier. The steps for these task are pretty much the same as the driving event detection, except that we're working with groups now rather than a dataframe."
   ]
  },
  {
   "cell_type": "code",
   "execution_count": 23,
   "metadata": {},
   "outputs": [],
   "source": [
    "danger_driving = DangerousDrivingDetection(features)"
   ]
  },
  {
   "cell_type": "markdown",
   "metadata": {},
   "source": [
    "##### Feature Extraction"
   ]
  },
  {
   "cell_type": "markdown",
   "metadata": {},
   "source": [
    "We'll use the same method as the previous one, which is sliding window. We'll use the data from the sliding window and predict the event of every window using the KMeans model. Then we'll count every event. "
   ]
  },
  {
   "cell_type": "markdown",
   "metadata": {},
   "source": [
    "We'll also count how many times the driver passes the urban speed limit (stated by WHO). We'll also use sliding window with size of 10 seconds. We'll calculate the mean of every window and check whether it passes the speed limit or not. We'll count how many windows pass the speed limit."
   ]
  },
  {
   "cell_type": "code",
   "execution_count": 24,
   "metadata": {},
   "outputs": [],
   "source": [
    "classification_features = danger_driving.load_classification_features(k_means=km)"
   ]
  },
  {
   "cell_type": "code",
   "execution_count": 25,
   "metadata": {},
   "outputs": [],
   "source": [
    "danger_driving.set_data(classification_features)"
   ]
  },
  {
   "cell_type": "code",
   "execution_count": 26,
   "metadata": {},
   "outputs": [],
   "source": [
    "danger_driving.merge_label_to_data(label, on=\"bookingID\")\n",
    "danger_driving.drop_column(\"bookingID\")"
   ]
  },
  {
   "cell_type": "markdown",
   "metadata": {},
   "source": [
    "###### Training"
   ]
  },
  {
   "cell_type": "markdown",
   "metadata": {},
   "source": [
    "We'll use Random Forest Classifier"
   ]
  },
  {
   "cell_type": "code",
   "execution_count": 27,
   "metadata": {},
   "outputs": [],
   "source": [
    "from sklearn.model_selection import train_test_split\n",
    "from sklearn.preprocessing import MinMaxScaler"
   ]
  },
  {
   "cell_type": "code",
   "execution_count": 78,
   "metadata": {},
   "outputs": [],
   "source": [
    "x, y = danger_driving.split_feature_and_label(\"label\")"
   ]
  },
  {
   "cell_type": "code",
   "execution_count": 79,
   "metadata": {},
   "outputs": [],
   "source": [
    "x_train, x_test, y_train, y_test = train_test_split(x, y, test_size=0.3, random_state=42)"
   ]
  },
  {
   "cell_type": "code",
   "execution_count": 80,
   "metadata": {},
   "outputs": [],
   "source": [
    "mms = MinMaxScaler()\n",
    "x_train = mms.fit_transform(x_train)\n",
    "x_test = mms.fit_transform(x_test)"
   ]
  },
  {
   "cell_type": "code",
   "execution_count": 87,
   "metadata": {},
   "outputs": [
    {
     "data": {
      "text/plain": [
       "RandomForestClassifier(bootstrap=True, class_weight=None, criterion='gini',\n",
       "                       max_depth=6, max_features='sqrt', max_leaf_nodes=None,\n",
       "                       min_impurity_decrease=0.0, min_impurity_split=None,\n",
       "                       min_samples_leaf=1, min_samples_split=2,\n",
       "                       min_weight_fraction_leaf=0.0, n_estimators=100,\n",
       "                       n_jobs=None, oob_score=False, random_state=42, verbose=0,\n",
       "                       warm_start=False)"
      ]
     },
     "execution_count": 87,
     "metadata": {},
     "output_type": "execute_result"
    }
   ],
   "source": [
    "from sklearn.ensemble import RandomForestClassifier    \n",
    "rf = RandomForestClassifier(max_depth=6, n_estimators=100, random_state=42, max_features='sqrt')\n",
    "rf.fit(x_train, y_train)"
   ]
  },
  {
   "cell_type": "markdown",
   "metadata": {},
   "source": [
    "###### Evaluation"
   ]
  },
  {
   "cell_type": "code",
   "execution_count": 58,
   "metadata": {},
   "outputs": [],
   "source": [
    "from sklearn.metrics import accuracy_score, confusion_matrix, recall_score, precision_score, f1_score\n",
    "import seaborn as sns"
   ]
  },
  {
   "cell_type": "code",
   "execution_count": 88,
   "metadata": {},
   "outputs": [],
   "source": [
    "y_pred = rf.predict(x_test)\n",
    "probs = rf.predict_proba(x_test)[:, 1]"
   ]
  },
  {
   "cell_type": "code",
   "execution_count": 89,
   "metadata": {},
   "outputs": [
    {
     "name": "stdout",
     "output_type": "stream",
     "text": [
      "Accuracy Score: 0.7516666666666667\n",
      "Recall Score: 0.00600400266844563\n",
      "Precision Score: 1.0\n",
      "F1 Score: 0.011936339522546418\n",
      "AUC: 0.6443491395211411\n"
     ]
    }
   ],
   "source": [
    "print(\"Accuracy Score:\", accuracy_score(y_test, y_pred))\n",
    "print(\"Recall Score:\", recall_score(y_test, y_pred))\n",
    "print(\"Precision Score:\", precision_score(y_test, y_pred))\n",
    "print(\"F1 Score:\", f1_score(y_test, y_pred))\n",
    "print(\"AUC:\", roc_auc_score(y_test, probs))"
   ]
  },
  {
   "cell_type": "code",
   "execution_count": 47,
   "metadata": {},
   "outputs": [],
   "source": [
    "cm = confusion_matrix(y_test, y_pred)"
   ]
  },
  {
   "cell_type": "code",
   "execution_count": 48,
   "metadata": {},
   "outputs": [
    {
     "data": {
      "image/png": "[encoded data removed]",
      "text/plain": [
       "<Figure size 720x504 with 2 Axes>"
      ]
     },
     "metadata": {
      "needs_background": "light"
     },
     "output_type": "display_data"
    }
   ],
   "source": [
    "cm = print_confusion_matrix(cm, [0, 1])"
   ]
  },
  {
   "cell_type": "code",
   "execution_count": 49,
   "metadata": {},
   "outputs": [],
   "source": [
    "from sklearn.metrics import roc_auc_score, roc_curve"
   ]
  },
  {
   "cell_type": "code",
   "execution_count": 61,
   "metadata": {},
   "outputs": [],
   "source": [
    "probs = rf.predict_proba(x_test)[:, 1]"
   ]
  },
  {
   "cell_type": "code",
   "execution_count": 62,
   "metadata": {},
   "outputs": [
    {
     "data": {
      "text/plain": [
       "0.6173026704168771"
      ]
     },
     "execution_count": 62,
     "metadata": {},
     "output_type": "execute_result"
    }
   ],
   "source": [
    "roc_auc_score(y_test, probs)"
   ]
  },
  {
   "cell_type": "code",
   "execution_count": 52,
   "metadata": {},
   "outputs": [],
   "source": [
    "fpr, tpr, thresholds = roc_curve(y_test, probs)"
   ]
  },
  {
   "cell_type": "code",
   "execution_count": 53,
   "metadata": {},
   "outputs": [
    {
     "data": {
      "image/png": "[encoded data removed]",
      "text/plain": [
       "<Figure size 432x288 with 1 Axes>"
      ]
     },
     "metadata": {
      "needs_background": "light"
     },
     "output_type": "display_data"
    }
   ],
   "source": [
    "plt.plot([0, 1], [0, 1], linestyle='--')\n",
    "plt.plot(fpr, tpr, marker='.')\n",
    "plt.show()"
   ]
  },
  {
   "cell_type": "code",
   "execution_count": null,
   "metadata": {},
   "outputs": [],
   "source": []
  }
 ],
 "metadata": {
  "kernelspec": {
   "display_name": "Python 3",
   "language": "python",
   "name": "python3"
  },
  "language_info": {
   "codemirror_mode": {
    "name": "ipython",
    "version": 3
   },
   "file_extension": ".py",
   "mimetype": "text/x-python",
   "name": "python",
   "nbconvert_exporter": "python",
   "pygments_lexer": "ipython3",
   "version": "3.6.5"
  }
 },
 "nbformat": 4,
 "nbformat_minor": 2
}
