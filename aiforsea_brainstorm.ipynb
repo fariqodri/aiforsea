{
 "cells": [
  {
   "cell_type": "code",
   "execution_count": 1,
   "metadata": {},
   "outputs": [],
   "source": [
    "import pandas as pd\n",
    "from pykalman import KalmanFilter"
   ]
  },
  {
   "cell_type": "code",
   "execution_count": 2,
   "metadata": {},
   "outputs": [],
   "source": [
    "file_path = \"./safety/features/part-0000{}-e6120af0-10c2-4248-97c4-81baf4304e5c-c000.csv\"\n",
    "features_arr = []\n",
    "for i in range(10):\n",
    "    features_arr.append(pd.read_csv(file_path.format(i)))"
   ]
  },
  {
   "cell_type": "code",
   "execution_count": 3,
   "metadata": {},
   "outputs": [],
   "source": [
    "label = pd.read_csv(\"./safety/labels/part-00000-e9445087-aa0a-433b-a7f6-7f4c19d78ad6-c000.csv\")"
   ]
  },
  {
   "cell_type": "code",
   "execution_count": 4,
   "metadata": {},
   "outputs": [],
   "source": [
    "label['bookingID'] = label['bookingID'].astype(str)"
   ]
  },
  {
   "cell_type": "code",
   "execution_count": 5,
   "metadata": {},
   "outputs": [
    {
     "data": {
      "text/html": [
       "<div>\n",
       "<style scoped>\n",
       "    .dataframe tbody tr th:only-of-type {\n",
       "        vertical-align: middle;\n",
       "    }\n",
       "\n",
       "    .dataframe tbody tr th {\n",
       "        vertical-align: top;\n",
       "    }\n",
       "\n",
       "    .dataframe thead th {\n",
       "        text-align: right;\n",
       "    }\n",
       "</style>\n",
       "<table border=\"1\" class=\"dataframe\">\n",
       "  <thead>\n",
       "    <tr style=\"text-align: right;\">\n",
       "      <th></th>\n",
       "      <th>bookingID</th>\n",
       "      <th>Accuracy</th>\n",
       "      <th>Bearing</th>\n",
       "      <th>acceleration_x</th>\n",
       "      <th>acceleration_y</th>\n",
       "      <th>acceleration_z</th>\n",
       "      <th>gyro_x</th>\n",
       "      <th>gyro_y</th>\n",
       "      <th>gyro_z</th>\n",
       "      <th>second</th>\n",
       "      <th>Speed</th>\n",
       "    </tr>\n",
       "  </thead>\n",
       "  <tbody>\n",
       "    <tr>\n",
       "      <th>0</th>\n",
       "      <td>1202590843006</td>\n",
       "      <td>3.000</td>\n",
       "      <td>353.0</td>\n",
       "      <td>1.228867</td>\n",
       "      <td>8.900100</td>\n",
       "      <td>3.986968</td>\n",
       "      <td>0.008221</td>\n",
       "      <td>0.002269</td>\n",
       "      <td>-0.009966</td>\n",
       "      <td>1362.0</td>\n",
       "      <td>0.000000</td>\n",
       "    </tr>\n",
       "    <tr>\n",
       "      <th>1</th>\n",
       "      <td>274877907034</td>\n",
       "      <td>9.293</td>\n",
       "      <td>17.0</td>\n",
       "      <td>0.032775</td>\n",
       "      <td>8.659933</td>\n",
       "      <td>4.737300</td>\n",
       "      <td>0.024629</td>\n",
       "      <td>0.004028</td>\n",
       "      <td>-0.010858</td>\n",
       "      <td>257.0</td>\n",
       "      <td>0.190000</td>\n",
       "    </tr>\n",
       "    <tr>\n",
       "      <th>2</th>\n",
       "      <td>884763263056</td>\n",
       "      <td>3.000</td>\n",
       "      <td>189.0</td>\n",
       "      <td>1.139675</td>\n",
       "      <td>9.545974</td>\n",
       "      <td>1.951334</td>\n",
       "      <td>-0.006899</td>\n",
       "      <td>-0.015080</td>\n",
       "      <td>0.001122</td>\n",
       "      <td>973.0</td>\n",
       "      <td>0.667059</td>\n",
       "    </tr>\n",
       "    <tr>\n",
       "      <th>3</th>\n",
       "      <td>1073741824054</td>\n",
       "      <td>3.900</td>\n",
       "      <td>126.0</td>\n",
       "      <td>3.871543</td>\n",
       "      <td>10.386364</td>\n",
       "      <td>-0.136474</td>\n",
       "      <td>0.001344</td>\n",
       "      <td>-0.339601</td>\n",
       "      <td>-0.017956</td>\n",
       "      <td>902.0</td>\n",
       "      <td>7.913285</td>\n",
       "    </tr>\n",
       "    <tr>\n",
       "      <th>4</th>\n",
       "      <td>1056561954943</td>\n",
       "      <td>3.900</td>\n",
       "      <td>50.0</td>\n",
       "      <td>-0.112882</td>\n",
       "      <td>10.550960</td>\n",
       "      <td>-1.560110</td>\n",
       "      <td>0.130568</td>\n",
       "      <td>-0.061697</td>\n",
       "      <td>0.161530</td>\n",
       "      <td>820.0</td>\n",
       "      <td>20.419409</td>\n",
       "    </tr>\n",
       "  </tbody>\n",
       "</table>\n",
       "</div>"
      ],
      "text/plain": [
       "       bookingID  Accuracy  Bearing  acceleration_x  acceleration_y  \\\n",
       "0  1202590843006     3.000    353.0        1.228867        8.900100   \n",
       "1   274877907034     9.293     17.0        0.032775        8.659933   \n",
       "2   884763263056     3.000    189.0        1.139675        9.545974   \n",
       "3  1073741824054     3.900    126.0        3.871543       10.386364   \n",
       "4  1056561954943     3.900     50.0       -0.112882       10.550960   \n",
       "\n",
       "   acceleration_z    gyro_x    gyro_y    gyro_z  second      Speed  \n",
       "0        3.986968  0.008221  0.002269 -0.009966  1362.0   0.000000  \n",
       "1        4.737300  0.024629  0.004028 -0.010858   257.0   0.190000  \n",
       "2        1.951334 -0.006899 -0.015080  0.001122   973.0   0.667059  \n",
       "3       -0.136474  0.001344 -0.339601 -0.017956   902.0   7.913285  \n",
       "4       -1.560110  0.130568 -0.061697  0.161530   820.0  20.419409  "
      ]
     },
     "execution_count": 5,
     "metadata": {},
     "output_type": "execute_result"
    }
   ],
   "source": [
    "features_arr[0].head(5)"
   ]
  },
  {
   "cell_type": "code",
   "execution_count": 6,
   "metadata": {},
   "outputs": [],
   "source": [
    "for df in features_arr:\n",
    "    df['bookingID'] = df['bookingID'].astype(str)"
   ]
  },
  {
   "cell_type": "code",
   "execution_count": 7,
   "metadata": {},
   "outputs": [],
   "source": [
    "all_features = pd.concat(features_arr).sort_values('second')"
   ]
  },
  {
   "cell_type": "markdown",
   "metadata": {},
   "source": [
    "## Event Detection\n",
    "Given the sensor values, we need to detect if the driver make reckless driving activities, such as hard breaking, hard acceleration, and weaving. For this purpose, we'll take a trip with longest duration as dataset and use clustering algorithm to detect those events"
   ]
  },
  {
   "cell_type": "code",
   "execution_count": 8,
   "metadata": {},
   "outputs": [],
   "source": [
    "import numpy as np"
   ]
  },
  {
   "cell_type": "code",
   "execution_count": 9,
   "metadata": {},
   "outputs": [],
   "source": [
    "class DrivingEventDetection:\n",
    "    def __init__(self, dataframe):\n",
    "        self.data = dataframe\n",
    "    \n",
    "    def kalman_filter(self, columns):\n",
    "        for column in columns:\n",
    "            kf = KalmanFilter(initial_state_mean=0, n_dim_obs=1)\n",
    "            measurement = self.data[column]\n",
    "            mean, variance = kf.em(measurement, n_iter=5).smooth(measurement)\n",
    "            new_column_name = 'new_{}'.format(column)\n",
    "            self.data[new_column_name] = mean\n",
    "    \n",
    "    def drop_columns(self, columns):\n",
    "        self.data = self.data.drop(columns, axis=1)\n",
    "    \n",
    "    def teta(self, y):\n",
    "        teta = np.arccos(y / 9.800)\n",
    "        return teta\n",
    "    \n",
    "    def pie(self, x, z):\n",
    "        pie = np.arctan(z/x)\n",
    "        return pie\n",
    "    \n",
    "    def reOrientX(self, x, y, z):\n",
    "        mult = np.multiply\n",
    "        teta = self.teta(y)\n",
    "        pie = self.pie(x, z)\n",
    "        xPie = mult(x, np.cos(pie)) - mult(z, np.sin(pie))\n",
    "        yPie = y\n",
    "        zPie = mult(x, np.sin(pie)) + mult(z, np.cos(pie))\n",
    "        xTeta = mult(xPie, np.cos(teta)) + mult(yPie, np.sin(teta))\n",
    "        zTeta = zPie\n",
    "        alpha = np.arctan(xPie / zPie)\n",
    "        xAlpha = mult(xTeta, np.cos(alpha)) - mult(zTeta, np.sin(alpha))\n",
    "        return xAlpha\n",
    "    \n",
    "    def reOrientY(self, x, y, z):\n",
    "        mult = np.multiply\n",
    "        teta = self.teta(y)\n",
    "        pie = self.pie(x, z)\n",
    "        xPie = mult(x, np.cos(pie)) - mult(z, np.sin(pie))\n",
    "        yPie = y\n",
    "        yTeta = mult(-xPie, np.sin(teta)) + mult(yPie, np.cos(teta))\n",
    "        return yTeta\n",
    "    \n",
    "    def reOrientZ(self, x, y, z):\n",
    "        mult = np.multiply\n",
    "        teta = self.teta(y)\n",
    "        pie = self.pie(x, z)\n",
    "        xPie = mult(x, np.cos(pie)) - mult(z, np.sin(pie))\n",
    "        yPie = y\n",
    "        zPie = mult(x, np.sin(pie)) + mult(z, np.cos(pie))\n",
    "        xTeta = mult(xPie, np.cos(teta)) + mult(yPie, np.sin(teta))\n",
    "        zTeta = zPie\n",
    "        alpha = np.arctan(xPie / zPie)\n",
    "        zAlpha = mult(xTeta, np.sin(alpha)) + mult(zTeta, np.cos(alpha))\n",
    "        return zAlpha"
   ]
  },
  {
   "cell_type": "code",
   "execution_count": 10,
   "metadata": {},
   "outputs": [],
   "source": [
    "grouped = all_features.groupby('bookingID', sort=False)"
   ]
  },
  {
   "cell_type": "code",
   "execution_count": 11,
   "metadata": {},
   "outputs": [],
   "source": [
    "longest_trip_id = grouped.size().sort_values(ascending=False).head(1).index.values[0]"
   ]
  },
  {
   "cell_type": "code",
   "execution_count": 12,
   "metadata": {},
   "outputs": [],
   "source": [
    "longest_trip = grouped.get_group(longest_trip_id)"
   ]
  },
  {
   "cell_type": "code",
   "execution_count": 13,
   "metadata": {},
   "outputs": [],
   "source": [
    "data = longest_trip.sort_values('second')"
   ]
  },
  {
   "cell_type": "code",
   "execution_count": 14,
   "metadata": {},
   "outputs": [],
   "source": [
    "driving_event_detection = DrivingEventDetection(data)"
   ]
  },
  {
   "cell_type": "code",
   "execution_count": 15,
   "metadata": {},
   "outputs": [],
   "source": [
    "def remove_outlier(df_in, col_name):\n",
    "    q1 = df_in[col_name].quantile(0.25)\n",
    "    q3 = df_in[col_name].quantile(0.75)\n",
    "    iqr = q3-q1 #Interquartile range\n",
    "    fence_low  = q1-1.5*iqr\n",
    "    fence_high = q3+1.5*iqr\n",
    "    df_out = df_in.loc[(df_in[col_name] > fence_low) & (df_in[col_name] < fence_high)]\n",
    "    return df_out"
   ]
  },
  {
   "cell_type": "code",
   "execution_count": 16,
   "metadata": {},
   "outputs": [
    {
     "data": {
      "text/html": [
       "<div>\n",
       "<style scoped>\n",
       "    .dataframe tbody tr th:only-of-type {\n",
       "        vertical-align: middle;\n",
       "    }\n",
       "\n",
       "    .dataframe tbody tr th {\n",
       "        vertical-align: top;\n",
       "    }\n",
       "\n",
       "    .dataframe thead th {\n",
       "        text-align: right;\n",
       "    }\n",
       "</style>\n",
       "<table border=\"1\" class=\"dataframe\">\n",
       "  <thead>\n",
       "    <tr style=\"text-align: right;\">\n",
       "      <th></th>\n",
       "      <th>bookingID</th>\n",
       "      <th>Accuracy</th>\n",
       "      <th>Bearing</th>\n",
       "      <th>acceleration_x</th>\n",
       "      <th>acceleration_y</th>\n",
       "      <th>acceleration_z</th>\n",
       "      <th>gyro_x</th>\n",
       "      <th>gyro_y</th>\n",
       "      <th>gyro_z</th>\n",
       "      <th>second</th>\n",
       "      <th>Speed</th>\n",
       "    </tr>\n",
       "  </thead>\n",
       "  <tbody>\n",
       "    <tr>\n",
       "      <th>688080</th>\n",
       "      <td>438086664371</td>\n",
       "      <td>4.0</td>\n",
       "      <td>351.0</td>\n",
       "      <td>0.339977</td>\n",
       "      <td>10.928333</td>\n",
       "      <td>1.784877</td>\n",
       "      <td>0.011484</td>\n",
       "      <td>0.070017</td>\n",
       "      <td>-0.096468</td>\n",
       "      <td>0.0</td>\n",
       "      <td>7.340000</td>\n",
       "    </tr>\n",
       "    <tr>\n",
       "      <th>1554664</th>\n",
       "      <td>438086664371</td>\n",
       "      <td>4.0</td>\n",
       "      <td>351.0</td>\n",
       "      <td>-0.873884</td>\n",
       "      <td>9.346964</td>\n",
       "      <td>2.134431</td>\n",
       "      <td>0.329745</td>\n",
       "      <td>0.332689</td>\n",
       "      <td>-0.191152</td>\n",
       "      <td>1.0</td>\n",
       "      <td>9.540000</td>\n",
       "    </tr>\n",
       "    <tr>\n",
       "      <th>1038426</th>\n",
       "      <td>438086664371</td>\n",
       "      <td>4.0</td>\n",
       "      <td>352.0</td>\n",
       "      <td>0.902614</td>\n",
       "      <td>9.793482</td>\n",
       "      <td>2.266112</td>\n",
       "      <td>-0.014172</td>\n",
       "      <td>0.005877</td>\n",
       "      <td>0.015321</td>\n",
       "      <td>2.0</td>\n",
       "      <td>9.700000</td>\n",
       "    </tr>\n",
       "    <tr>\n",
       "      <th>746317</th>\n",
       "      <td>438086664371</td>\n",
       "      <td>4.0</td>\n",
       "      <td>352.0</td>\n",
       "      <td>-0.244209</td>\n",
       "      <td>9.490616</td>\n",
       "      <td>0.541090</td>\n",
       "      <td>-0.038607</td>\n",
       "      <td>0.007098</td>\n",
       "      <td>0.002492</td>\n",
       "      <td>3.0</td>\n",
       "      <td>9.440000</td>\n",
       "    </tr>\n",
       "    <tr>\n",
       "      <th>77421</th>\n",
       "      <td>438086664371</td>\n",
       "      <td>4.0</td>\n",
       "      <td>350.0</td>\n",
       "      <td>-0.547075</td>\n",
       "      <td>9.014170</td>\n",
       "      <td>-3.253720</td>\n",
       "      <td>0.074403</td>\n",
       "      <td>-0.085753</td>\n",
       "      <td>0.128331</td>\n",
       "      <td>4.0</td>\n",
       "      <td>9.420000</td>\n",
       "    </tr>\n",
       "    <tr>\n",
       "      <th>992307</th>\n",
       "      <td>438086664371</td>\n",
       "      <td>5.0</td>\n",
       "      <td>350.0</td>\n",
       "      <td>-0.480037</td>\n",
       "      <td>8.300697</td>\n",
       "      <td>-1.753753</td>\n",
       "      <td>-0.012339</td>\n",
       "      <td>-0.033219</td>\n",
       "      <td>0.021429</td>\n",
       "      <td>5.0</td>\n",
       "      <td>8.990000</td>\n",
       "    </tr>\n",
       "    <tr>\n",
       "      <th>400858</th>\n",
       "      <td>438086664371</td>\n",
       "      <td>5.0</td>\n",
       "      <td>350.0</td>\n",
       "      <td>1.100136</td>\n",
       "      <td>9.385271</td>\n",
       "      <td>-0.304064</td>\n",
       "      <td>0.113499</td>\n",
       "      <td>-0.099803</td>\n",
       "      <td>0.129552</td>\n",
       "      <td>6.0</td>\n",
       "      <td>10.490000</td>\n",
       "    </tr>\n",
       "    <tr>\n",
       "      <th>624754</th>\n",
       "      <td>438086664371</td>\n",
       "      <td>5.0</td>\n",
       "      <td>349.0</td>\n",
       "      <td>-0.507571</td>\n",
       "      <td>10.576386</td>\n",
       "      <td>4.575319</td>\n",
       "      <td>-0.126571</td>\n",
       "      <td>0.020537</td>\n",
       "      <td>0.031203</td>\n",
       "      <td>7.0</td>\n",
       "      <td>11.090000</td>\n",
       "    </tr>\n",
       "    <tr>\n",
       "      <th>1336458</th>\n",
       "      <td>438086664371</td>\n",
       "      <td>5.0</td>\n",
       "      <td>347.0</td>\n",
       "      <td>0.772130</td>\n",
       "      <td>10.296265</td>\n",
       "      <td>4.357447</td>\n",
       "      <td>-0.022113</td>\n",
       "      <td>0.040696</td>\n",
       "      <td>-0.054318</td>\n",
       "      <td>8.0</td>\n",
       "      <td>10.290000</td>\n",
       "    </tr>\n",
       "    <tr>\n",
       "      <th>300509</th>\n",
       "      <td>438086664371</td>\n",
       "      <td>5.0</td>\n",
       "      <td>346.0</td>\n",
       "      <td>1.626860</td>\n",
       "      <td>10.843340</td>\n",
       "      <td>6.062118</td>\n",
       "      <td>-0.482095</td>\n",
       "      <td>-0.354534</td>\n",
       "      <td>0.230956</td>\n",
       "      <td>9.0</td>\n",
       "      <td>9.139999</td>\n",
       "    </tr>\n",
       "  </tbody>\n",
       "</table>\n",
       "</div>"
      ],
      "text/plain": [
       "            bookingID  Accuracy  Bearing  acceleration_x  acceleration_y  \\\n",
       "688080   438086664371       4.0    351.0        0.339977       10.928333   \n",
       "1554664  438086664371       4.0    351.0       -0.873884        9.346964   \n",
       "1038426  438086664371       4.0    352.0        0.902614        9.793482   \n",
       "746317   438086664371       4.0    352.0       -0.244209        9.490616   \n",
       "77421    438086664371       4.0    350.0       -0.547075        9.014170   \n",
       "992307   438086664371       5.0    350.0       -0.480037        8.300697   \n",
       "400858   438086664371       5.0    350.0        1.100136        9.385271   \n",
       "624754   438086664371       5.0    349.0       -0.507571       10.576386   \n",
       "1336458  438086664371       5.0    347.0        0.772130       10.296265   \n",
       "300509   438086664371       5.0    346.0        1.626860       10.843340   \n",
       "\n",
       "         acceleration_z    gyro_x    gyro_y    gyro_z  second      Speed  \n",
       "688080         1.784877  0.011484  0.070017 -0.096468     0.0   7.340000  \n",
       "1554664        2.134431  0.329745  0.332689 -0.191152     1.0   9.540000  \n",
       "1038426        2.266112 -0.014172  0.005877  0.015321     2.0   9.700000  \n",
       "746317         0.541090 -0.038607  0.007098  0.002492     3.0   9.440000  \n",
       "77421         -3.253720  0.074403 -0.085753  0.128331     4.0   9.420000  \n",
       "992307        -1.753753 -0.012339 -0.033219  0.021429     5.0   8.990000  \n",
       "400858        -0.304064  0.113499 -0.099803  0.129552     6.0  10.490000  \n",
       "624754         4.575319 -0.126571  0.020537  0.031203     7.0  11.090000  \n",
       "1336458        4.357447 -0.022113  0.040696 -0.054318     8.0  10.290000  \n",
       "300509         6.062118 -0.482095 -0.354534  0.230956     9.0   9.139999  "
      ]
     },
     "execution_count": 16,
     "metadata": {},
     "output_type": "execute_result"
    }
   ],
   "source": [
    "driving_event_detection.data.head(10)"
   ]
  },
  {
   "cell_type": "markdown",
   "metadata": {},
   "source": [
    "#### Remove x and z axes from accelerometer and x and y axes gyro\n",
    "Since the vehicle only has longitudinal and lateral motion, x and z axes in accelerometer and x and y axes in gyro can be omitted"
   ]
  },
  {
   "cell_type": "code",
   "execution_count": 17,
   "metadata": {},
   "outputs": [],
   "source": [
    "# driving_event_detection.drop_columns([\"acceleration_x\", \"acceleration_z\", \"gyro_x\", \"gyro_y\"])"
   ]
  },
  {
   "cell_type": "markdown",
   "metadata": {},
   "source": [
    "#### Sensor-captured data filtering with kalman filter to reduce noise"
   ]
  },
  {
   "cell_type": "code",
   "execution_count": 18,
   "metadata": {},
   "outputs": [
    {
     "data": {
      "text/plain": [
       "(7561, 2)"
      ]
     },
     "execution_count": 18,
     "metadata": {},
     "output_type": "execute_result"
    }
   ],
   "source": [
    "driving_event_detection.data.loc[:,[\"acceleration_y\", \"gyro_z\"]].values.shape"
   ]
  },
  {
   "cell_type": "code",
   "execution_count": 19,
   "metadata": {},
   "outputs": [],
   "source": [
    "driving_event_detection.kalman_filter([\"acceleration_y\", \"gyro_z\", \n",
    "#                                        \"acceleration_x\", \"acceleration_z\", \"gyro_x\", \"gyro_y\"\n",
    "                                      ])"
   ]
  },
  {
   "cell_type": "code",
   "execution_count": 20,
   "metadata": {},
   "outputs": [
    {
     "data": {
      "text/plain": [
       "<matplotlib.axes._subplots.AxesSubplot at 0x28d34b41400>"
      ]
     },
     "execution_count": 20,
     "metadata": {},
     "output_type": "execute_result"
    }
   ],
   "source": [
    "driving_event_detection.data.plot.line(x=\"second\", y=[\"acceleration_y\", \"new_acceleration_y\"])"
   ]
  },
  {
   "cell_type": "code",
   "execution_count": 21,
   "metadata": {},
   "outputs": [
    {
     "data": {
      "text/plain": [
       "<matplotlib.axes._subplots.AxesSubplot at 0x28d34d5a898>"
      ]
     },
     "execution_count": 21,
     "metadata": {},
     "output_type": "execute_result"
    },
    {
     "data": {
      "image/png": "[encoded data removed]",
      "text/plain": [
       "<Figure size 432x288 with 1 Axes>"
      ]
     },
     "metadata": {
      "needs_background": "light"
     },
     "output_type": "display_data"
    }
   ],
   "source": [
    "driving_event_detection.data.plot.line(x=\"second\", y=[\"gyro_z\", \"new_gyro_z\"])"
   ]
  },
  {
   "cell_type": "markdown",
   "metadata": {},
   "source": [
    "#### Sliding Window\n",
    "Sliding window with value of 3. Statistical features such as interquartile range of acceleration and gyro, average speed"
   ]
  },
  {
   "cell_type": "code",
   "execution_count": 22,
   "metadata": {},
   "outputs": [],
   "source": [
    "import scipy.stats as stats"
   ]
  },
  {
   "cell_type": "code",
   "execution_count": 61,
   "metadata": {},
   "outputs": [
    {
     "data": {
      "text/html": [
       "<div>\n",
       "<style scoped>\n",
       "    .dataframe tbody tr th:only-of-type {\n",
       "        vertical-align: middle;\n",
       "    }\n",
       "\n",
       "    .dataframe tbody tr th {\n",
       "        vertical-align: top;\n",
       "    }\n",
       "\n",
       "    .dataframe thead th {\n",
       "        text-align: right;\n",
       "    }\n",
       "</style>\n",
       "<table border=\"1\" class=\"dataframe\">\n",
       "  <thead>\n",
       "    <tr style=\"text-align: right;\">\n",
       "      <th></th>\n",
       "      <th>new_acceleration_y</th>\n",
       "      <th>new_gyro_z</th>\n",
       "    </tr>\n",
       "  </thead>\n",
       "  <tbody>\n",
       "    <tr>\n",
       "      <th>688080</th>\n",
       "      <td>NaN</td>\n",
       "      <td>NaN</td>\n",
       "    </tr>\n",
       "    <tr>\n",
       "      <th>1554664</th>\n",
       "      <td>NaN</td>\n",
       "      <td>NaN</td>\n",
       "    </tr>\n",
       "    <tr>\n",
       "      <th>1038426</th>\n",
       "      <td>0.002460</td>\n",
       "      <td>1.981964e-03</td>\n",
       "    </tr>\n",
       "    <tr>\n",
       "      <th>746317</th>\n",
       "      <td>0.004736</td>\n",
       "      <td>3.674323e-03</td>\n",
       "    </tr>\n",
       "    <tr>\n",
       "      <th>77421</th>\n",
       "      <td>0.033243</td>\n",
       "      <td>2.060156e-03</td>\n",
       "    </tr>\n",
       "    <tr>\n",
       "      <th>992307</th>\n",
       "      <td>0.029579</td>\n",
       "      <td>7.202763e-04</td>\n",
       "    </tr>\n",
       "    <tr>\n",
       "      <th>400858</th>\n",
       "      <td>0.059087</td>\n",
       "      <td>1.120934e-04</td>\n",
       "    </tr>\n",
       "    <tr>\n",
       "      <th>624754</th>\n",
       "      <td>0.265058</td>\n",
       "      <td>2.622353e-04</td>\n",
       "    </tr>\n",
       "    <tr>\n",
       "      <th>1336458</th>\n",
       "      <td>0.145206</td>\n",
       "      <td>6.760042e-04</td>\n",
       "    </tr>\n",
       "    <tr>\n",
       "      <th>300509</th>\n",
       "      <td>0.019962</td>\n",
       "      <td>8.296135e-04</td>\n",
       "    </tr>\n",
       "    <tr>\n",
       "      <th>1252501</th>\n",
       "      <td>0.018290</td>\n",
       "      <td>2.084750e-03</td>\n",
       "    </tr>\n",
       "    <tr>\n",
       "      <th>907867</th>\n",
       "      <td>0.027170</td>\n",
       "      <td>4.641057e-03</td>\n",
       "    </tr>\n",
       "    <tr>\n",
       "      <th>1091306</th>\n",
       "      <td>0.000307</td>\n",
       "      <td>5.520303e-04</td>\n",
       "    </tr>\n",
       "    <tr>\n",
       "      <th>635138</th>\n",
       "      <td>0.006829</td>\n",
       "      <td>4.262401e-04</td>\n",
       "    </tr>\n",
       "    <tr>\n",
       "      <th>1495627</th>\n",
       "      <td>0.008066</td>\n",
       "      <td>1.318729e-05</td>\n",
       "    </tr>\n",
       "    <tr>\n",
       "      <th>58356</th>\n",
       "      <td>0.002799</td>\n",
       "      <td>1.005243e-04</td>\n",
       "    </tr>\n",
       "    <tr>\n",
       "      <th>449965</th>\n",
       "      <td>0.003948</td>\n",
       "      <td>1.208692e-03</td>\n",
       "    </tr>\n",
       "    <tr>\n",
       "      <th>321186</th>\n",
       "      <td>0.007572</td>\n",
       "      <td>7.016198e-04</td>\n",
       "    </tr>\n",
       "    <tr>\n",
       "      <th>655087</th>\n",
       "      <td>0.006750</td>\n",
       "      <td>2.314290e-04</td>\n",
       "    </tr>\n",
       "    <tr>\n",
       "      <th>1527908</th>\n",
       "      <td>0.001847</td>\n",
       "      <td>1.621733e-05</td>\n",
       "    </tr>\n",
       "    <tr>\n",
       "      <th>1057658</th>\n",
       "      <td>0.000591</td>\n",
       "      <td>9.722869e-05</td>\n",
       "    </tr>\n",
       "    <tr>\n",
       "      <th>1604171</th>\n",
       "      <td>0.011967</td>\n",
       "      <td>2.221724e-04</td>\n",
       "    </tr>\n",
       "    <tr>\n",
       "      <th>166770</th>\n",
       "      <td>0.011946</td>\n",
       "      <td>3.350808e-05</td>\n",
       "    </tr>\n",
       "    <tr>\n",
       "      <th>1195877</th>\n",
       "      <td>0.000247</td>\n",
       "      <td>2.865688e-07</td>\n",
       "    </tr>\n",
       "    <tr>\n",
       "      <th>494017</th>\n",
       "      <td>0.000482</td>\n",
       "      <td>8.132133e-07</td>\n",
       "    </tr>\n",
       "    <tr>\n",
       "      <th>1363981</th>\n",
       "      <td>0.000963</td>\n",
       "      <td>1.968723e-06</td>\n",
       "    </tr>\n",
       "    <tr>\n",
       "      <th>1354155</th>\n",
       "      <td>0.000921</td>\n",
       "      <td>9.639406e-07</td>\n",
       "    </tr>\n",
       "    <tr>\n",
       "      <th>112156</th>\n",
       "      <td>0.000091</td>\n",
       "      <td>2.321185e-07</td>\n",
       "    </tr>\n",
       "    <tr>\n",
       "      <th>218532</th>\n",
       "      <td>0.000013</td>\n",
       "      <td>6.558886e-08</td>\n",
       "    </tr>\n",
       "    <tr>\n",
       "      <th>864304</th>\n",
       "      <td>0.000074</td>\n",
       "      <td>5.573306e-08</td>\n",
       "    </tr>\n",
       "    <tr>\n",
       "      <th>...</th>\n",
       "      <td>...</td>\n",
       "      <td>...</td>\n",
       "    </tr>\n",
       "    <tr>\n",
       "      <th>1014308</th>\n",
       "      <td>0.017704</td>\n",
       "      <td>1.891943e-05</td>\n",
       "    </tr>\n",
       "    <tr>\n",
       "      <th>834565</th>\n",
       "      <td>0.004106</td>\n",
       "      <td>1.479863e-05</td>\n",
       "    </tr>\n",
       "    <tr>\n",
       "      <th>1505201</th>\n",
       "      <td>0.000103</td>\n",
       "      <td>3.252401e-05</td>\n",
       "    </tr>\n",
       "    <tr>\n",
       "      <th>1163258</th>\n",
       "      <td>0.000325</td>\n",
       "      <td>1.899018e-05</td>\n",
       "    </tr>\n",
       "    <tr>\n",
       "      <th>1025370</th>\n",
       "      <td>0.000445</td>\n",
       "      <td>2.196835e-04</td>\n",
       "    </tr>\n",
       "    <tr>\n",
       "      <th>1370527</th>\n",
       "      <td>0.000151</td>\n",
       "      <td>4.652816e-04</td>\n",
       "    </tr>\n",
       "    <tr>\n",
       "      <th>357094</th>\n",
       "      <td>0.002177</td>\n",
       "      <td>1.907080e-04</td>\n",
       "    </tr>\n",
       "    <tr>\n",
       "      <th>700692</th>\n",
       "      <td>0.001516</td>\n",
       "      <td>1.053972e-05</td>\n",
       "    </tr>\n",
       "    <tr>\n",
       "      <th>69234</th>\n",
       "      <td>0.000052</td>\n",
       "      <td>8.937052e-05</td>\n",
       "    </tr>\n",
       "    <tr>\n",
       "      <th>1463945</th>\n",
       "      <td>0.000014</td>\n",
       "      <td>4.273096e-04</td>\n",
       "    </tr>\n",
       "    <tr>\n",
       "      <th>1449563</th>\n",
       "      <td>0.000331</td>\n",
       "      <td>2.535559e-04</td>\n",
       "    </tr>\n",
       "    <tr>\n",
       "      <th>1591760</th>\n",
       "      <td>0.000295</td>\n",
       "      <td>1.408902e-03</td>\n",
       "    </tr>\n",
       "    <tr>\n",
       "      <th>803016</th>\n",
       "      <td>0.002022</td>\n",
       "      <td>1.793881e-03</td>\n",
       "    </tr>\n",
       "    <tr>\n",
       "      <th>133859</th>\n",
       "      <td>0.013298</td>\n",
       "      <td>6.445878e-03</td>\n",
       "    </tr>\n",
       "    <tr>\n",
       "      <th>1191132</th>\n",
       "      <td>0.022642</td>\n",
       "      <td>4.224520e-02</td>\n",
       "    </tr>\n",
       "    <tr>\n",
       "      <th>25968</th>\n",
       "      <td>0.268922</td>\n",
       "      <td>5.530959e-01</td>\n",
       "    </tr>\n",
       "    <tr>\n",
       "      <th>1291467</th>\n",
       "      <td>0.651737</td>\n",
       "      <td>4.954914e-01</td>\n",
       "    </tr>\n",
       "    <tr>\n",
       "      <th>604369</th>\n",
       "      <td>0.165143</td>\n",
       "      <td>2.188598e-01</td>\n",
       "    </tr>\n",
       "    <tr>\n",
       "      <th>918441</th>\n",
       "      <td>0.032841</td>\n",
       "      <td>4.116564e-03</td>\n",
       "    </tr>\n",
       "    <tr>\n",
       "      <th>1310507</th>\n",
       "      <td>0.009841</td>\n",
       "      <td>1.234900e-02</td>\n",
       "    </tr>\n",
       "    <tr>\n",
       "      <th>973371</th>\n",
       "      <td>0.886903</td>\n",
       "      <td>5.710064e-02</td>\n",
       "    </tr>\n",
       "    <tr>\n",
       "      <th>874978</th>\n",
       "      <td>3.534286</td>\n",
       "      <td>5.166796e-02</td>\n",
       "    </tr>\n",
       "    <tr>\n",
       "      <th>704356</th>\n",
       "      <td>2.406507</td>\n",
       "      <td>8.426275e-02</td>\n",
       "    </tr>\n",
       "    <tr>\n",
       "      <th>1447268</th>\n",
       "      <td>0.158361</td>\n",
       "      <td>8.808871e-03</td>\n",
       "    </tr>\n",
       "    <tr>\n",
       "      <th>1451611</th>\n",
       "      <td>0.484144</td>\n",
       "      <td>9.525146e-03</td>\n",
       "    </tr>\n",
       "    <tr>\n",
       "      <th>696825</th>\n",
       "      <td>0.417765</td>\n",
       "      <td>5.189397e-03</td>\n",
       "    </tr>\n",
       "    <tr>\n",
       "      <th>1201563</th>\n",
       "      <td>0.100858</td>\n",
       "      <td>1.751377e-03</td>\n",
       "    </tr>\n",
       "    <tr>\n",
       "      <th>842974</th>\n",
       "      <td>0.235378</td>\n",
       "      <td>1.893353e-03</td>\n",
       "    </tr>\n",
       "    <tr>\n",
       "      <th>108217</th>\n",
       "      <td>0.043950</td>\n",
       "      <td>3.703476e-04</td>\n",
       "    </tr>\n",
       "    <tr>\n",
       "      <th>578742</th>\n",
       "      <td>0.003302</td>\n",
       "      <td>3.160675e-05</td>\n",
       "    </tr>\n",
       "  </tbody>\n",
       "</table>\n",
       "<p>7561 rows × 2 columns</p>\n",
       "</div>"
      ],
      "text/plain": [
       "         new_acceleration_y    new_gyro_z\n",
       "688080                  NaN           NaN\n",
       "1554664                 NaN           NaN\n",
       "1038426            0.002460  1.981964e-03\n",
       "746317             0.004736  3.674323e-03\n",
       "77421              0.033243  2.060156e-03\n",
       "992307             0.029579  7.202763e-04\n",
       "400858             0.059087  1.120934e-04\n",
       "624754             0.265058  2.622353e-04\n",
       "1336458            0.145206  6.760042e-04\n",
       "300509             0.019962  8.296135e-04\n",
       "1252501            0.018290  2.084750e-03\n",
       "907867             0.027170  4.641057e-03\n",
       "1091306            0.000307  5.520303e-04\n",
       "635138             0.006829  4.262401e-04\n",
       "1495627            0.008066  1.318729e-05\n",
       "58356              0.002799  1.005243e-04\n",
       "449965             0.003948  1.208692e-03\n",
       "321186             0.007572  7.016198e-04\n",
       "655087             0.006750  2.314290e-04\n",
       "1527908            0.001847  1.621733e-05\n",
       "1057658            0.000591  9.722869e-05\n",
       "1604171            0.011967  2.221724e-04\n",
       "166770             0.011946  3.350808e-05\n",
       "1195877            0.000247  2.865688e-07\n",
       "494017             0.000482  8.132133e-07\n",
       "1363981            0.000963  1.968723e-06\n",
       "1354155            0.000921  9.639406e-07\n",
       "112156             0.000091  2.321185e-07\n",
       "218532             0.000013  6.558886e-08\n",
       "864304             0.000074  5.573306e-08\n",
       "...                     ...           ...\n",
       "1014308            0.017704  1.891943e-05\n",
       "834565             0.004106  1.479863e-05\n",
       "1505201            0.000103  3.252401e-05\n",
       "1163258            0.000325  1.899018e-05\n",
       "1025370            0.000445  2.196835e-04\n",
       "1370527            0.000151  4.652816e-04\n",
       "357094             0.002177  1.907080e-04\n",
       "700692             0.001516  1.053972e-05\n",
       "69234              0.000052  8.937052e-05\n",
       "1463945            0.000014  4.273096e-04\n",
       "1449563            0.000331  2.535559e-04\n",
       "1591760            0.000295  1.408902e-03\n",
       "803016             0.002022  1.793881e-03\n",
       "133859             0.013298  6.445878e-03\n",
       "1191132            0.022642  4.224520e-02\n",
       "25968              0.268922  5.530959e-01\n",
       "1291467            0.651737  4.954914e-01\n",
       "604369             0.165143  2.188598e-01\n",
       "918441             0.032841  4.116564e-03\n",
       "1310507            0.009841  1.234900e-02\n",
       "973371             0.886903  5.710064e-02\n",
       "874978             3.534286  5.166796e-02\n",
       "704356             2.406507  8.426275e-02\n",
       "1447268            0.158361  8.808871e-03\n",
       "1451611            0.484144  9.525146e-03\n",
       "696825             0.417765  5.189397e-03\n",
       "1201563            0.100858  1.751377e-03\n",
       "842974             0.235378  1.893353e-03\n",
       "108217             0.043950  3.703476e-04\n",
       "578742             0.003302  3.160675e-05\n",
       "\n",
       "[7561 rows x 2 columns]"
      ]
     },
     "execution_count": 61,
     "metadata": {},
     "output_type": "execute_result"
    }
   ],
   "source": [
    "driving_event_detection.data[['new_acceleration_y', 'new_gyro_z']].rolling(3).var()"
   ]
  },
  {
   "cell_type": "code",
   "execution_count": 23,
   "metadata": {},
   "outputs": [],
   "source": [
    "stats_features = {}\n",
    "# stats_features['acceleration_y_window_mean'] = driving_event_detection.data['new_acceleration_y'].rolling(3).mean()\n",
    "stats_features['acceleration_y_variance'] = driving_event_detection.data['new_acceleration_y'].rolling(3).var()\n",
    "# stats_features['acceleration_y_std'] = driving_event_detection.data['new_acceleration_y'].rolling(3).std()\n",
    "\n",
    "# stats_features['gyro_z_window_mean'] = driving_event_detection.data['new_gyro_z'].rolling(3).mean()\n",
    "stats_features['gyro_z_window_variance'] = driving_event_detection.data['new_gyro_z'].rolling(3).var()\n",
    "# stats_features['gyro_z_window_std'] = driving_event_detection.data['new_gyro_z'].rolling(3).std()"
   ]
  },
  {
   "cell_type": "code",
   "execution_count": 24,
   "metadata": {},
   "outputs": [],
   "source": [
    "train_data = pd.DataFrame.from_dict(stats_features).reset_index(drop=True)"
   ]
  },
  {
   "cell_type": "code",
   "execution_count": 25,
   "metadata": {},
   "outputs": [],
   "source": [
    "train_data = train_data.dropna()"
   ]
  },
  {
   "cell_type": "code",
   "execution_count": 26,
   "metadata": {},
   "outputs": [
    {
     "data": {
      "text/html": [
       "<div>\n",
       "<style scoped>\n",
       "    .dataframe tbody tr th:only-of-type {\n",
       "        vertical-align: middle;\n",
       "    }\n",
       "\n",
       "    .dataframe tbody tr th {\n",
       "        vertical-align: top;\n",
       "    }\n",
       "\n",
       "    .dataframe thead th {\n",
       "        text-align: right;\n",
       "    }\n",
       "</style>\n",
       "<table border=\"1\" class=\"dataframe\">\n",
       "  <thead>\n",
       "    <tr style=\"text-align: right;\">\n",
       "      <th></th>\n",
       "      <th>acceleration_y_variance</th>\n",
       "      <th>gyro_z_window_variance</th>\n",
       "    </tr>\n",
       "  </thead>\n",
       "  <tbody>\n",
       "    <tr>\n",
       "      <th>count</th>\n",
       "      <td>7.559000e+03</td>\n",
       "      <td>7.559000e+03</td>\n",
       "    </tr>\n",
       "    <tr>\n",
       "      <th>mean</th>\n",
       "      <td>2.274473e-01</td>\n",
       "      <td>1.647028e-02</td>\n",
       "    </tr>\n",
       "    <tr>\n",
       "      <th>std</th>\n",
       "      <td>1.168287e+00</td>\n",
       "      <td>1.155255e-01</td>\n",
       "    </tr>\n",
       "    <tr>\n",
       "      <th>min</th>\n",
       "      <td>2.183953e-09</td>\n",
       "      <td>1.598186e-11</td>\n",
       "    </tr>\n",
       "    <tr>\n",
       "      <th>25%</th>\n",
       "      <td>1.591419e-04</td>\n",
       "      <td>1.219863e-06</td>\n",
       "    </tr>\n",
       "    <tr>\n",
       "      <th>50%</th>\n",
       "      <td>4.293275e-03</td>\n",
       "      <td>9.099720e-05</td>\n",
       "    </tr>\n",
       "    <tr>\n",
       "      <th>75%</th>\n",
       "      <td>4.013759e-02</td>\n",
       "      <td>9.374399e-04</td>\n",
       "    </tr>\n",
       "    <tr>\n",
       "      <th>max</th>\n",
       "      <td>2.235289e+01</td>\n",
       "      <td>4.561377e+00</td>\n",
       "    </tr>\n",
       "  </tbody>\n",
       "</table>\n",
       "</div>"
      ],
      "text/plain": [
       "       acceleration_y_variance  gyro_z_window_variance\n",
       "count             7.559000e+03            7.559000e+03\n",
       "mean              2.274473e-01            1.647028e-02\n",
       "std               1.168287e+00            1.155255e-01\n",
       "min               2.183953e-09            1.598186e-11\n",
       "25%               1.591419e-04            1.219863e-06\n",
       "50%               4.293275e-03            9.099720e-05\n",
       "75%               4.013759e-02            9.374399e-04\n",
       "max               2.235289e+01            4.561377e+00"
      ]
     },
     "execution_count": 26,
     "metadata": {},
     "output_type": "execute_result"
    }
   ],
   "source": [
    "train_data.describe()"
   ]
  },
  {
   "cell_type": "markdown",
   "metadata": {},
   "source": [
    "#### Clustering\n",
    "4 clusters"
   ]
  },
  {
   "cell_type": "code",
   "execution_count": 27,
   "metadata": {},
   "outputs": [],
   "source": [
    "from sklearn.cluster import KMeans\n",
    "from sklearn.preprocessing import StandardScaler"
   ]
  },
  {
   "cell_type": "code",
   "execution_count": 28,
   "metadata": {},
   "outputs": [],
   "source": [
    "from mpl_toolkits import mplot3d"
   ]
  },
  {
   "cell_type": "code",
   "execution_count": 29,
   "metadata": {},
   "outputs": [],
   "source": [
    "%matplotlib inline\n",
    "import matplotlib.pyplot as plt"
   ]
  },
  {
   "cell_type": "code",
   "execution_count": 30,
   "metadata": {},
   "outputs": [],
   "source": [
    "scaler = StandardScaler()\n",
    "train_data = scaler.fit_transform(train_data)"
   ]
  },
  {
   "cell_type": "code",
   "execution_count": 31,
   "metadata": {},
   "outputs": [
    {
     "data": {
      "image/png": "[encoded data removed]",
      "text/plain": [
       "<Figure size 576x432 with 1 Axes>"
      ]
     },
     "metadata": {
      "needs_background": "light"
     },
     "output_type": "display_data"
    }
   ],
   "source": [
    "from matplotlib import pyplot as plt\n",
    "from sklearn.cluster import KMeans\n",
    "from sklearn import metrics\n",
    "\n",
    "plt.figure(figsize=(8,6))\n",
    "k_range = range(2, 8)\n",
    "scores = []\n",
    "for k in k_range:\n",
    "    km = KMeans(n_clusters=k, random_state=1, tol=1e-8, max_iter=1000)\n",
    "    km.fit(train_data)\n",
    "    scores.append(metrics.silhouette_score(train_data, km.labels_))\n",
    "# plot the results\n",
    "plt.plot(k_range, scores)\n",
    "plt.xlabel('Number of clusters')\n",
    "plt.ylabel('Silhouette Coefficient')\n",
    "plt.grid(True)"
   ]
  },
  {
   "cell_type": "code",
   "execution_count": 33,
   "metadata": {},
   "outputs": [],
   "source": [
    "km = KMeans(n_clusters=3, random_state=1, tol=1e-8)"
   ]
  },
  {
   "cell_type": "code",
   "execution_count": 34,
   "metadata": {},
   "outputs": [
    {
     "data": {
      "text/plain": [
       "KMeans(algorithm='auto', copy_x=True, init='k-means++', max_iter=300,\n",
       "       n_clusters=3, n_init=10, n_jobs=None, precompute_distances='auto',\n",
       "       random_state=1, tol=1e-08, verbose=0)"
      ]
     },
     "execution_count": 34,
     "metadata": {},
     "output_type": "execute_result"
    }
   ],
   "source": [
    "km.fit(train_data)"
   ]
  },
  {
   "cell_type": "code",
   "execution_count": 35,
   "metadata": {},
   "outputs": [
    {
     "data": {
      "text/plain": [
       "-5024.126022285861"
      ]
     },
     "execution_count": 35,
     "metadata": {},
     "output_type": "execute_result"
    }
   ],
   "source": [
    "km.score(train_data)"
   ]
  },
  {
   "cell_type": "code",
   "execution_count": 36,
   "metadata": {},
   "outputs": [],
   "source": [
    "from matplotlib.pyplot import figure"
   ]
  },
  {
   "cell_type": "code",
   "execution_count": 38,
   "metadata": {
    "scrolled": true
   },
   "outputs": [
    {
     "data": {
      "image/png": "[encoded data removed]",
      "text/plain": [
       "<Figure size 1080x1080 with 1 Axes>"
      ]
     },
     "metadata": {
      "needs_background": "light"
     },
     "output_type": "display_data"
    }
   ],
   "source": [
    "colors = ['r', 'g', 'b']\n",
    "figure(figsize=(15,15))\n",
    "k=3\n",
    "x_arr = train_data\n",
    "labels = km.labels_\n",
    "centroids = km.cluster_centers_\n",
    "for i in range(k):\n",
    "    points = np.array([x_arr[j] for j in range(len(train_data)) if labels[j] == i])\n",
    "    plt.scatter(points[:, 0], points[:, 1], s=40, c=colors[i])\n",
    "    plt.scatter(centroids[:, 0], centroids[:, 1], marker='*', s=400,\n",
    "c='#050505')\n",
    "plt.show()"
   ]
  },
  {
   "cell_type": "code",
   "execution_count": 39,
   "metadata": {},
   "outputs": [
    {
     "data": {
      "text/plain": [
       "array([[-0.09946542, -0.06426207],\n",
       "       [ 1.41730849, 12.14170787],\n",
       "       [ 7.38268757,  0.94814125]])"
      ]
     },
     "execution_count": 39,
     "metadata": {},
     "output_type": "execute_result"
    }
   ],
   "source": [
    "km.cluster_centers_"
   ]
  },
  {
   "cell_type": "markdown",
   "metadata": {},
   "source": [
    "## Dangerous Driving Detection\n",
    "The clustering model will be used to count any events that occured during the trip. These numbers of events will be fed to the supervised learning algorithm to detect if the trip was dangerous or not"
   ]
  },
  {
   "cell_type": "code",
   "execution_count": 44,
   "metadata": {},
   "outputs": [],
   "source": [
    "def kalman_filter(data, columns):\n",
    "    data = data.copy()\n",
    "    for column in columns:\n",
    "        kf = KalmanFilter(initial_state_mean=0, n_dim_obs=1)\n",
    "        measurement = data[column]\n",
    "        mean, variance = kf.em(measurement).smooth(measurement)\n",
    "        new_column_name = 'new_{}'.format(column)\n",
    "        data[new_column_name] = mean\n",
    "    return data"
   ]
  },
  {
   "cell_type": "code",
   "execution_count": 45,
   "metadata": {},
   "outputs": [],
   "source": [
    "grouped_data = all_features.groupby(\"bookingID\")"
   ]
  },
  {
   "cell_type": "code",
   "execution_count": 46,
   "metadata": {},
   "outputs": [],
   "source": [
    "train_features = {'bookingID': [], 'num_of_detected_0': [], 'num_of_detected_1': [], \n",
    "                  'num_of_detected_2': [],\n",
    "#                   'num_of_detected_3': [], 'num_of_detected_4': [], \n",
    "#                   'average_speed': []\n",
    "                 }\n",
    "for name, group in grouped_data:\n",
    "    stats_features = {}\n",
    "    stats_features['acceleration_y_variance'] = group['acceleration_y'].rolling(3).var()\n",
    "\n",
    "    stats_features['gyro_z_window_variance'] = group['gyro_z'].rolling(3).var()\n",
    "    \n",
    "    cluster_data = pd.DataFrame.from_dict(stats_features)\n",
    "    cluster_data = cluster_data.dropna()\n",
    "    ss = StandardScaler()\n",
    "    cluster_data = ss.fit_transform(cluster_data)\n",
    "    predicted_events = km.predict(cluster_data)\n",
    "    unique, counts = np.unique(predicted_events, return_counts=True)\n",
    "    unique_counts = dict(zip(unique, counts))\n",
    "    for i in range(3):\n",
    "        if i not in unique_counts:\n",
    "            unique_counts[i] = 0\n",
    "    train_features['bookingID'].append(name)\n",
    "    train_features['num_of_detected_0'].append(unique_counts[0])\n",
    "    train_features['num_of_detected_1'].append(unique_counts[1])\n",
    "    train_features['num_of_detected_2'].append(unique_counts[2])"
   ]
  },
  {
   "cell_type": "code",
   "execution_count": 47,
   "metadata": {},
   "outputs": [],
   "source": [
    "train_df = pd.DataFrame.from_dict(train_features)"
   ]
  },
  {
   "cell_type": "code",
   "execution_count": 48,
   "metadata": {},
   "outputs": [
    {
     "data": {
      "text/plain": [
       "20000"
      ]
     },
     "execution_count": 48,
     "metadata": {},
     "output_type": "execute_result"
    }
   ],
   "source": [
    "len(train_df['bookingID'].unique())"
   ]
  },
  {
   "cell_type": "code",
   "execution_count": 49,
   "metadata": {},
   "outputs": [],
   "source": [
    "train_df = train_df.merge(label, on=\"bookingID\")"
   ]
  },
  {
   "cell_type": "code",
   "execution_count": 50,
   "metadata": {},
   "outputs": [],
   "source": [
    "train_df = train_df.drop(\"bookingID\", axis=1)"
   ]
  },
  {
   "cell_type": "code",
   "execution_count": 51,
   "metadata": {},
   "outputs": [
    {
     "data": {
      "text/html": [
       "<div>\n",
       "<style scoped>\n",
       "    .dataframe tbody tr th:only-of-type {\n",
       "        vertical-align: middle;\n",
       "    }\n",
       "\n",
       "    .dataframe tbody tr th {\n",
       "        vertical-align: top;\n",
       "    }\n",
       "\n",
       "    .dataframe thead th {\n",
       "        text-align: right;\n",
       "    }\n",
       "</style>\n",
       "<table border=\"1\" class=\"dataframe\">\n",
       "  <thead>\n",
       "    <tr style=\"text-align: right;\">\n",
       "      <th></th>\n",
       "      <th>num_of_detected_0</th>\n",
       "      <th>num_of_detected_1</th>\n",
       "      <th>num_of_detected_2</th>\n",
       "      <th>label</th>\n",
       "    </tr>\n",
       "  </thead>\n",
       "  <tbody>\n",
       "    <tr>\n",
       "      <th>count</th>\n",
       "      <td>20018.000000</td>\n",
       "      <td>20018.000000</td>\n",
       "      <td>20018.000000</td>\n",
       "      <td>20018.000000</td>\n",
       "    </tr>\n",
       "    <tr>\n",
       "      <th>mean</th>\n",
       "      <td>790.406484</td>\n",
       "      <td>3.649765</td>\n",
       "      <td>10.938355</td>\n",
       "      <td>0.249825</td>\n",
       "    </tr>\n",
       "    <tr>\n",
       "      <th>std</th>\n",
       "      <td>426.158670</td>\n",
       "      <td>2.549245</td>\n",
       "      <td>6.309878</td>\n",
       "      <td>0.432923</td>\n",
       "    </tr>\n",
       "    <tr>\n",
       "      <th>min</th>\n",
       "      <td>113.000000</td>\n",
       "      <td>0.000000</td>\n",
       "      <td>0.000000</td>\n",
       "      <td>0.000000</td>\n",
       "    </tr>\n",
       "    <tr>\n",
       "      <th>25%</th>\n",
       "      <td>465.000000</td>\n",
       "      <td>2.000000</td>\n",
       "      <td>6.000000</td>\n",
       "      <td>0.000000</td>\n",
       "    </tr>\n",
       "    <tr>\n",
       "      <th>50%</th>\n",
       "      <td>730.000000</td>\n",
       "      <td>3.000000</td>\n",
       "      <td>10.000000</td>\n",
       "      <td>0.000000</td>\n",
       "    </tr>\n",
       "    <tr>\n",
       "      <th>75%</th>\n",
       "      <td>1061.000000</td>\n",
       "      <td>5.000000</td>\n",
       "      <td>15.000000</td>\n",
       "      <td>0.000000</td>\n",
       "    </tr>\n",
       "    <tr>\n",
       "      <th>max</th>\n",
       "      <td>7450.000000</td>\n",
       "      <td>46.000000</td>\n",
       "      <td>63.000000</td>\n",
       "      <td>1.000000</td>\n",
       "    </tr>\n",
       "  </tbody>\n",
       "</table>\n",
       "</div>"
      ],
      "text/plain": [
       "       num_of_detected_0  num_of_detected_1  num_of_detected_2         label\n",
       "count       20018.000000       20018.000000       20018.000000  20018.000000\n",
       "mean          790.406484           3.649765          10.938355      0.249825\n",
       "std           426.158670           2.549245           6.309878      0.432923\n",
       "min           113.000000           0.000000           0.000000      0.000000\n",
       "25%           465.000000           2.000000           6.000000      0.000000\n",
       "50%           730.000000           3.000000          10.000000      0.000000\n",
       "75%          1061.000000           5.000000          15.000000      0.000000\n",
       "max          7450.000000          46.000000          63.000000      1.000000"
      ]
     },
     "execution_count": 51,
     "metadata": {},
     "output_type": "execute_result"
    }
   ],
   "source": [
    "train_df.describe()"
   ]
  },
  {
   "cell_type": "code",
   "execution_count": 52,
   "metadata": {},
   "outputs": [],
   "source": [
    "from sklearn.neural_network import MLPClassifier\n",
    "from sklearn.neighbors import KNeighborsClassifier\n",
    "from sklearn.svm import SVC\n",
    "from sklearn.gaussian_process import GaussianProcessClassifier\n",
    "from sklearn.gaussian_process.kernels import RBF\n",
    "from sklearn.tree import DecisionTreeClassifier\n",
    "from sklearn.ensemble import RandomForestClassifier, AdaBoostClassifier\n",
    "from sklearn.naive_bayes import GaussianNB\n",
    "from sklearn.discriminant_analysis import QuadraticDiscriminantAnalysis\n",
    "from sklearn.linear_model import LogisticRegression"
   ]
  },
  {
   "cell_type": "code",
   "execution_count": 53,
   "metadata": {},
   "outputs": [],
   "source": [
    "from sklearn.model_selection import train_test_split"
   ]
  },
  {
   "cell_type": "code",
   "execution_count": 54,
   "metadata": {},
   "outputs": [],
   "source": [
    "classifiers = {\n",
    "    'kn': KNeighborsClassifier(3),\n",
    "    'svc1': SVC(kernel=\"linear\", C=0.025),\n",
    "    'svc2': SVC(gamma=2, C=1),\n",
    "    'tree': DecisionTreeClassifier(max_depth=5),\n",
    "    'rf': RandomForestClassifier(max_depth=5, n_estimators=10),\n",
    "    'mlp': MLPClassifier(alpha=1, max_iter=1000),\n",
    "    'ada': AdaBoostClassifier(),\n",
    "    'naive': GaussianNB(),\n",
    "    'quadratic': QuadraticDiscriminantAnalysis(),\n",
    "    'lr': LogisticRegression()\n",
    "}"
   ]
  },
  {
   "cell_type": "code",
   "execution_count": 55,
   "metadata": {},
   "outputs": [],
   "source": [
    "y = train_df['label']\n",
    "x = train_df.drop('label', axis=1)"
   ]
  },
  {
   "cell_type": "code",
   "execution_count": 56,
   "metadata": {},
   "outputs": [],
   "source": [
    "x_train, x_test, y_train, y_test = train_test_split(x, y, test_size=0.3)"
   ]
  },
  {
   "cell_type": "code",
   "execution_count": 57,
   "metadata": {},
   "outputs": [],
   "source": [
    "from sklearn.preprocessing import StandardScaler, MinMaxScalerxScaler"
   ]
  },
  {
   "cell_type": "code",
   "execution_count": 58,
   "metadata": {},
   "outputs": [],
   "source": [
    "mms = StandardScaler()"
   ]
  },
  {
   "cell_type": "code",
   "execution_count": 59,
   "metadata": {},
   "outputs": [],
   "source": [
    "x_train = mms.fit_transform(x_train)\n",
    "x_test = mms.fit_transform(x_test)"
   ]
  },
  {
   "cell_type": "code",
   "execution_count": 60,
   "metadata": {},
   "outputs": [
    {
     "name": "stdout",
     "output_type": "stream",
     "text": [
      "kn 0.691974691974692\n",
      "svc1 0.7525807525807526\n",
      "svc2 0.7644022644022644\n",
      "tree 0.7617382617382618\n",
      "rf 0.7639027639027639\n",
      "mlp 0.7652347652347652\n",
      "ada 0.7640692640692641\n",
      "naive 0.7335997335997336\n",
      "quadratic 0.7455877455877455\n",
      "lr 0.7640692640692641\n"
     ]
    },
    {
     "name": "stderr",
     "output_type": "stream",
     "text": [
      "d:\\belajar\\aiforsea\\env\\lib\\site-packages\\sklearn\\linear_model\\logistic.py:432: FutureWarning: Default solver will be changed to 'lbfgs' in 0.22. Specify a solver to silence this warning.\n",
      "  FutureWarning)\n"
     ]
    }
   ],
   "source": [
    "for c in classifiers:\n",
    "    model = classifiers[c]\n",
    "    model.fit(x_train, y_train)\n",
    "    print(c, model.score(x_test, y_test))"
   ]
  },
  {
   "cell_type": "code",
   "execution_count": null,
   "metadata": {},
   "outputs": [],
   "source": []
  }
 ],
 "metadata": {
  "kernelspec": {
   "display_name": "Python 3",
   "language": "python",
   "name": "python3"
  },
  "language_info": {
   "codemirror_mode": {
    "name": "ipython",
    "version": 3
   },
   "file_extension": ".py",
   "mimetype": "text/x-python",
   "name": "python",
   "nbconvert_exporter": "python",
   "pygments_lexer": "ipython3",
   "version": "3.6.6"
  }
 },
 "nbformat": 4,
 "nbformat_minor": 2
}
